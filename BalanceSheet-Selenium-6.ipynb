{
 "cells": [
  {
   "cell_type": "code",
   "execution_count": 1,
   "id": "30f20ab0",
   "metadata": {},
   "outputs": [],
   "source": [
    "from chromedriver_py import binary_path"
   ]
  },
  {
   "cell_type": "code",
   "execution_count": 2,
   "id": "fc3689ce",
   "metadata": {},
   "outputs": [],
   "source": [
    "from selenium import webdriver\n",
    "from selenium.webdriver.common.keys import Keys"
   ]
  },
  {
   "cell_type": "code",
   "execution_count": 3,
   "id": "9661027c",
   "metadata": {},
   "outputs": [],
   "source": [
    "from selenium.webdriver.common.by import By"
   ]
  },
  {
   "cell_type": "code",
   "execution_count": 4,
   "id": "15b300be",
   "metadata": {},
   "outputs": [],
   "source": [
    "import pandas as pd"
   ]
  },
  {
   "cell_type": "code",
   "execution_count": 51,
   "id": "3cd18b71",
   "metadata": {},
   "outputs": [
    {
     "name": "stderr",
     "output_type": "stream",
     "text": [
      "<ipython-input-51-be9d09d8a619>:1: DeprecationWarning: executable_path has been deprecated, please pass in a Service object\n",
      "  driver = webdriver.Chrome(executable_path=binary_path)\n"
     ]
    }
   ],
   "source": [
    "driver = webdriver.Chrome(executable_path=binary_path)"
   ]
  },
  {
   "cell_type": "code",
   "execution_count": 8,
   "id": "e06b4f3d",
   "metadata": {},
   "outputs": [],
   "source": [
    "def get_heads(html_part):\n",
    "    lst = []\n",
    "    head_found = False\n",
    "    d_tbr = html_part.find_elements(By.XPATH,\"//div[contains(@class, 'D(tbr)')]\")\n",
    "    for d in d_tbr:\n",
    "        if not head_found:\n",
    "            try:\n",
    "                brk = d.find_elements(By.XPATH,\".//span\")\n",
    "                for b in brk:\n",
    "                    if b.text == 'Breakdown':\n",
    "                        head_found = True\n",
    "                    lst.append(b.text)\n",
    "                    #print(b.text)\n",
    "            except:\n",
    "                print(ERROR)\n",
    "    return lst\n"
   ]
  },
  {
   "cell_type": "code",
   "execution_count": 9,
   "id": "32d2bcbc",
   "metadata": {},
   "outputs": [],
   "source": [
    "def get_span(reference_line, depth):\n",
    "    item = []\n",
    "    try:\n",
    "        tbr = reference_line.find_element(By.XPATH,\".//div[contains(@class, 'D(tbr)')]\")\n",
    "        span = tbr.find_elements(By.XPATH,\".//span\")\n",
    "        i = 0\n",
    "        for sp in span:\n",
    "            #print(\"Título: \",i,sp.text,\" Nivel: \", depth)\n",
    "            if i == 0:\n",
    "                item.append(symbol)\n",
    "                #print(item)\n",
    "                item.append(depth)\n",
    "            item.append(sp.text)\n",
    "            i+=1\n",
    "        financial_sheet.append(item)    \n",
    "    except Exception as e:\n",
    "        error = e.__class__.__name__\n",
    " \n",
    "    "
   ]
  },
  {
   "cell_type": "code",
   "execution_count": 10,
   "id": "d80845d5",
   "metadata": {},
   "outputs": [],
   "source": [
    "def no_button(error,reference_line,depth):\n",
    "    e = error\n",
    "    if e.__class__.__name__ == \"NoSuchElementException\":\n",
    "        get_span(reference_line, depth)\n",
    "    else:    \n",
    "        error = e.__class__.__name__\n"
   ]
  },
  {
   "cell_type": "code",
   "execution_count": 11,
   "id": "728c21b4",
   "metadata": {},
   "outputs": [],
   "source": [
    "def seek_buttons(html_part,depth = 0):\n",
    "    tb = html_part.find_elements(By.XPATH,\".//div[contains(@data-test, 'fin-row')]\") \n",
    "    global fianacial_item\n",
    "    if len(tb)>0:\n",
    "        for ln in tb:\n",
    "            try:\n",
    "                button = ln.find_element(By.XPATH,\".//button\")\n",
    "                name_class = button.get_attribute(\"class\")\n",
    "                get_span(ln, depth)\n",
    "                button.click()\n",
    "                seek_buttons(ln, depth = depth + 1)\n",
    "            except Exception as e:\n",
    "                no_button(e,ln,depth)\n"
   ]
  },
  {
   "cell_type": "code",
   "execution_count": 52,
   "id": "8e1cad14",
   "metadata": {},
   "outputs": [],
   "source": [
    "symbols = ['MSFT','AAPL']\n",
    "df_balance = pd.DataFrame()"
   ]
  },
  {
   "cell_type": "code",
   "execution_count": 53,
   "id": "698db1df",
   "metadata": {},
   "outputs": [
    {
     "name": "stdout",
     "output_type": "stream",
     "text": [
      "Symbol - empty:  MSFT\n",
      "Symbol - no empty:  AAPL\n"
     ]
    }
   ],
   "source": [
    "for symbol in symbols:\n",
    "    financial_sheet = []\n",
    "    url = 'https://finance.yahoo.com/quote/' + symbol + '/balance-sheet?p=' + symbol\n",
    "    driver.get(url)\n",
    "    \n",
    "    #heads\n",
    "    tmp_heads = get_heads(driver)\n",
    "    tmp_heads[0] = 'Title'\n",
    "    heads = ['Company','Level',tmp_heads[0]]\n",
    "    i = 0\n",
    "    for th in tmp_heads[1:len(tmp_heads)]:\n",
    "        heads.append(\"Year-\" + str(i))\n",
    "        i+=1\n",
    "        \n",
    "    #fill financial sheet\n",
    "    seek_buttons(driver)\n",
    "    \n",
    "    #dataframe\n",
    "    df_balance_company = pd.DataFrame(financial_sheet, columns = heads)\n",
    "    if df_balance.empty :\n",
    "        print(\"Symbol - empty: \",symbol)\n",
    "        df_balance = df_balance_company.copy()\n",
    "    else:\n",
    "        print(\"Symbol - no empty: \",symbol)\n",
    "        df_balance = df_balance.append(df_balance_company, sort = False)\n"
   ]
  },
  {
   "cell_type": "code",
   "execution_count": 54,
   "id": "dae11553",
   "metadata": {},
   "outputs": [
    {
     "data": {
      "text/html": [
       "<div>\n",
       "<style scoped>\n",
       "    .dataframe tbody tr th:only-of-type {\n",
       "        vertical-align: middle;\n",
       "    }\n",
       "\n",
       "    .dataframe tbody tr th {\n",
       "        vertical-align: top;\n",
       "    }\n",
       "\n",
       "    .dataframe thead th {\n",
       "        text-align: right;\n",
       "    }\n",
       "</style>\n",
       "<table border=\"1\" class=\"dataframe\">\n",
       "  <thead>\n",
       "    <tr style=\"text-align: right;\">\n",
       "      <th></th>\n",
       "      <th>Company</th>\n",
       "      <th>Level</th>\n",
       "      <th>Title</th>\n",
       "      <th>Year-0</th>\n",
       "      <th>Year-1</th>\n",
       "      <th>Year-2</th>\n",
       "      <th>Year-3</th>\n",
       "    </tr>\n",
       "  </thead>\n",
       "  <tbody>\n",
       "    <tr>\n",
       "      <th>0</th>\n",
       "      <td>MSFT</td>\n",
       "      <td>0</td>\n",
       "      <td>Total Assets</td>\n",
       "      <td>333,779,000</td>\n",
       "      <td>301,311,000</td>\n",
       "      <td>286,556,000</td>\n",
       "      <td>258,848,000</td>\n",
       "    </tr>\n",
       "    <tr>\n",
       "      <th>1</th>\n",
       "      <td>MSFT</td>\n",
       "      <td>1</td>\n",
       "      <td>Current Assets</td>\n",
       "      <td>184,406,000</td>\n",
       "      <td>181,915,000</td>\n",
       "      <td>175,552,000</td>\n",
       "      <td>169,662,000</td>\n",
       "    </tr>\n",
       "    <tr>\n",
       "      <th>2</th>\n",
       "      <td>MSFT</td>\n",
       "      <td>2</td>\n",
       "      <td>Cash, Cash Equivalents &amp; Short Term Investments</td>\n",
       "      <td>130,334,000</td>\n",
       "      <td>136,527,000</td>\n",
       "      <td>133,819,000</td>\n",
       "      <td>133,768,000</td>\n",
       "    </tr>\n",
       "    <tr>\n",
       "      <th>3</th>\n",
       "      <td>MSFT</td>\n",
       "      <td>3</td>\n",
       "      <td>Cash And Cash Equivalents</td>\n",
       "      <td>11,748,000</td>\n",
       "      <td>13,576,000</td>\n",
       "      <td>11,356,000</td>\n",
       "      <td>11,946,000</td>\n",
       "    </tr>\n",
       "    <tr>\n",
       "      <th>4</th>\n",
       "      <td>MSFT</td>\n",
       "      <td>4</td>\n",
       "      <td>Cash</td>\n",
       "      <td>7,272,000</td>\n",
       "      <td>None</td>\n",
       "      <td>None</td>\n",
       "      <td>None</td>\n",
       "    </tr>\n",
       "    <tr>\n",
       "      <th>...</th>\n",
       "      <td>...</td>\n",
       "      <td>...</td>\n",
       "      <td>...</td>\n",
       "      <td>...</td>\n",
       "      <td>...</td>\n",
       "      <td>...</td>\n",
       "      <td>...</td>\n",
       "    </tr>\n",
       "    <tr>\n",
       "      <th>55</th>\n",
       "      <td>AAPL</td>\n",
       "      <td>0</td>\n",
       "      <td>Tangible Book Value</td>\n",
       "      <td>63,090,000</td>\n",
       "      <td>65,339,000</td>\n",
       "      <td>90,488,000</td>\n",
       "      <td>107,147,000</td>\n",
       "    </tr>\n",
       "    <tr>\n",
       "      <th>56</th>\n",
       "      <td>AAPL</td>\n",
       "      <td>0</td>\n",
       "      <td>Total Debt</td>\n",
       "      <td>124,719,000</td>\n",
       "      <td>112,436,000</td>\n",
       "      <td>108,047,000</td>\n",
       "      <td>114,483,000</td>\n",
       "    </tr>\n",
       "    <tr>\n",
       "      <th>57</th>\n",
       "      <td>AAPL</td>\n",
       "      <td>0</td>\n",
       "      <td>Net Debt</td>\n",
       "      <td>89,779,000</td>\n",
       "      <td>74,420,000</td>\n",
       "      <td>59,203,000</td>\n",
       "      <td>88,570,000</td>\n",
       "    </tr>\n",
       "    <tr>\n",
       "      <th>58</th>\n",
       "      <td>AAPL</td>\n",
       "      <td>0</td>\n",
       "      <td>Share Issued</td>\n",
       "      <td>16,426,786</td>\n",
       "      <td>16,976,763</td>\n",
       "      <td>17,772,944</td>\n",
       "      <td>19,019,944</td>\n",
       "    </tr>\n",
       "    <tr>\n",
       "      <th>59</th>\n",
       "      <td>AAPL</td>\n",
       "      <td>0</td>\n",
       "      <td>Ordinary Shares Number</td>\n",
       "      <td>16,426,786</td>\n",
       "      <td>16,976,763</td>\n",
       "      <td>17,772,944</td>\n",
       "      <td>19,019,944</td>\n",
       "    </tr>\n",
       "  </tbody>\n",
       "</table>\n",
       "<p>132 rows × 7 columns</p>\n",
       "</div>"
      ],
      "text/plain": [
       "   Company  Level                                            Title  \\\n",
       "0     MSFT      0                                     Total Assets   \n",
       "1     MSFT      1                                   Current Assets   \n",
       "2     MSFT      2  Cash, Cash Equivalents & Short Term Investments   \n",
       "3     MSFT      3                        Cash And Cash Equivalents   \n",
       "4     MSFT      4                                             Cash   \n",
       "..     ...    ...                                              ...   \n",
       "55    AAPL      0                              Tangible Book Value   \n",
       "56    AAPL      0                                       Total Debt   \n",
       "57    AAPL      0                                         Net Debt   \n",
       "58    AAPL      0                                     Share Issued   \n",
       "59    AAPL      0                           Ordinary Shares Number   \n",
       "\n",
       "         Year-0       Year-1       Year-2       Year-3  \n",
       "0   333,779,000  301,311,000  286,556,000  258,848,000  \n",
       "1   184,406,000  181,915,000  175,552,000  169,662,000  \n",
       "2   130,334,000  136,527,000  133,819,000  133,768,000  \n",
       "3    11,748,000   13,576,000   11,356,000   11,946,000  \n",
       "4     7,272,000         None         None         None  \n",
       "..          ...          ...          ...          ...  \n",
       "55   63,090,000   65,339,000   90,488,000  107,147,000  \n",
       "56  124,719,000  112,436,000  108,047,000  114,483,000  \n",
       "57   89,779,000   74,420,000   59,203,000   88,570,000  \n",
       "58   16,426,786   16,976,763   17,772,944   19,019,944  \n",
       "59   16,426,786   16,976,763   17,772,944   19,019,944  \n",
       "\n",
       "[132 rows x 7 columns]"
      ]
     },
     "execution_count": 54,
     "metadata": {},
     "output_type": "execute_result"
    }
   ],
   "source": [
    "df_balance"
   ]
  },
  {
   "cell_type": "code",
   "execution_count": null,
   "id": "75a5617d",
   "metadata": {},
   "outputs": [],
   "source": []
  }
 ],
 "metadata": {
  "kernelspec": {
   "display_name": "Python 3",
   "language": "python",
   "name": "python3"
  },
  "language_info": {
   "codemirror_mode": {
    "name": "ipython",
    "version": 3
   },
   "file_extension": ".py",
   "mimetype": "text/x-python",
   "name": "python",
   "nbconvert_exporter": "python",
   "pygments_lexer": "ipython3",
   "version": "3.8.8"
  }
 },
 "nbformat": 4,
 "nbformat_minor": 5
}
